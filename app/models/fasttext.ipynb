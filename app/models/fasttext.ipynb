{
  "nbformat": 4,
  "nbformat_minor": 0,
  "metadata": {
    "colab": {
      "name": "Copy of projectModels.ipynb",
      "provenance": [],
      "collapsed_sections": [],
      "machine_shape": "hm"
    },
    "kernelspec": {
      "name": "python3",
      "display_name": "Python 3"
    },
    "language_info": {
      "name": "python"
    },
    "accelerator": "GPU"
  },
  "cells": [
    {
      "cell_type": "code",
      "metadata": {
        "colab": {
          "base_uri": "https://localhost:8080/"
        },
        "id": "oLVNZZRVl-6R",
        "outputId": "3f74b544-7a4f-4e19-93d0-fc2a45f0f34b"
      },
      "source": [
        "from google.colab import drive\n",
        "drive.mount('/content/gdrive', force_remount=True)"
      ],
      "execution_count": 2,
      "outputs": [
        {
          "output_type": "stream",
          "text": [
            "Mounted at /content/gdrive\n"
          ],
          "name": "stdout"
        }
      ]
    },
    {
      "cell_type": "markdown",
      "metadata": {
        "id": "kGvfss9Y1jbm"
      },
      "source": [
        "**FastText activity**"
      ]
    },
    {
      "cell_type": "code",
      "metadata": {
        "id": "1DA5aWVzHR68",
        "colab": {
          "base_uri": "https://localhost:8080/"
        },
        "outputId": "fceeaa77-f413-49a1-d5d9-512aa1f49dae"
      },
      "source": [
        "! pip install fasttext"
      ],
      "execution_count": null,
      "outputs": [
        {
          "output_type": "stream",
          "text": [
            "Collecting fasttext\n",
            "\u001b[?25l  Downloading https://files.pythonhosted.org/packages/f8/85/e2b368ab6d3528827b147fdb814f8189acc981a4bc2f99ab894650e05c40/fasttext-0.9.2.tar.gz (68kB)\n",
            "\r\u001b[K     |████▊                           | 10kB 17.1MB/s eta 0:00:01\r\u001b[K     |█████████▌                      | 20kB 13.1MB/s eta 0:00:01\r\u001b[K     |██████████████▎                 | 30kB 9.8MB/s eta 0:00:01\r\u001b[K     |███████████████████             | 40kB 8.5MB/s eta 0:00:01\r\u001b[K     |███████████████████████▉        | 51kB 5.4MB/s eta 0:00:01\r\u001b[K     |████████████████████████████▋   | 61kB 5.7MB/s eta 0:00:01\r\u001b[K     |████████████████████████████████| 71kB 3.8MB/s \n",
            "\u001b[?25hRequirement already satisfied: pybind11>=2.2 in /usr/local/lib/python3.7/dist-packages (from fasttext) (2.6.2)\n",
            "Requirement already satisfied: setuptools>=0.7.0 in /usr/local/lib/python3.7/dist-packages (from fasttext) (56.0.0)\n",
            "Requirement already satisfied: numpy in /usr/local/lib/python3.7/dist-packages (from fasttext) (1.19.5)\n",
            "Building wheels for collected packages: fasttext\n",
            "  Building wheel for fasttext (setup.py) ... \u001b[?25l\u001b[?25hdone\n",
            "  Created wheel for fasttext: filename=fasttext-0.9.2-cp37-cp37m-linux_x86_64.whl size=3092386 sha256=6ba2a98f8577563b14d20b7bfbb4c68c5cc3f617f91c088894ef3bc6ca4f481d\n",
            "  Stored in directory: /root/.cache/pip/wheels/98/ba/7f/b154944a1cf5a8cee91c154b75231136cc3a3321ab0e30f592\n",
            "Successfully built fasttext\n",
            "Installing collected packages: fasttext\n",
            "Successfully installed fasttext-0.9.2\n"
          ],
          "name": "stdout"
        }
      ]
    },
    {
      "cell_type": "code",
      "metadata": {
        "colab": {
          "base_uri": "https://localhost:8080/"
        },
        "id": "tCT36nNwqkQ-",
        "outputId": "025a472e-6f6e-4793-e4ec-ba868bb4e77c"
      },
      "source": [
        "import string\n",
        "import nltk\n",
        "nltk.download('stopwords')\n",
        "nltk.download('words')\n",
        "from nltk.corpus import stopwords\n",
        "from nltk.tokenize import wordpunct_tokenize\n",
        "from tqdm import tqdm\n",
        "import matplotlib.pyplot as plt\n",
        "import numpy as np\n",
        "import csv\n",
        "import os\n",
        "from functools import partial\n",
        "import torch\n",
        "import fasttext\n",
        "import sys\n",
        "import os\n",
        "import pandas as pd\n",
        "import numpy as np\n",
        "\n",
        "from sklearn.metrics import f1_score\n",
        "from sklearn.model_selection import cross_val_score, StratifiedKFold\n",
        "\n",
        "WORDS = set(nltk.corpus.words.words())\n",
        "\n",
        "ignore = ['nan']\n",
        "\n",
        "print(len(WORDS))"
      ],
      "execution_count": null,
      "outputs": [
        {
          "output_type": "stream",
          "text": [
            "[nltk_data] Downloading package stopwords to /root/nltk_data...\n",
            "[nltk_data]   Unzipping corpora/stopwords.zip.\n",
            "[nltk_data] Downloading package words to /root/nltk_data...\n",
            "[nltk_data]   Unzipping corpora/words.zip.\n",
            "235892\n"
          ],
          "name": "stdout"
        }
      ]
    },
    {
      "cell_type": "code",
      "metadata": {
        "id": "1IlfdEW7ICJs"
      },
      "source": [
        "datafile = \"/content/gdrive/MyDrive/NLP_Final/data/kaggle_RedditSarcasm/train-balanced-sarcasm.csv\""
      ],
      "execution_count": 3,
      "outputs": []
    },
    {
      "cell_type": "code",
      "metadata": {
        "id": "NAi1mQLZJg1X"
      },
      "source": [
        "# read the data\n",
        "import pandas as pd\n",
        "df = pd.read_csv(datafile)"
      ],
      "execution_count": 4,
      "outputs": []
    },
    {
      "cell_type": "code",
      "metadata": {
        "id": "oCC7JkOn5KCG"
      },
      "source": [
        "# make lowercase \n",
        "df['comment'] = df['comment'].str.lower()"
      ],
      "execution_count": 8,
      "outputs": []
    },
    {
      "cell_type": "code",
      "metadata": {
        "colab": {
          "base_uri": "https://localhost:8080/",
          "height": 289
        },
        "id": "eHp6o2G-4XcB",
        "outputId": "a16f9048-086d-4a9d-ab3d-0fb6f68d2cea"
      },
      "source": [
        "# shuffle and show the first few posts\n",
        "df = df.sample(frac=1).reset_index(drop=True)\n",
        "df.head()"
      ],
      "execution_count": 7,
      "outputs": [
        {
          "output_type": "execute_result",
          "data": {
            "text/html": [
              "<div>\n",
              "<style scoped>\n",
              "    .dataframe tbody tr th:only-of-type {\n",
              "        vertical-align: middle;\n",
              "    }\n",
              "\n",
              "    .dataframe tbody tr th {\n",
              "        vertical-align: top;\n",
              "    }\n",
              "\n",
              "    .dataframe thead th {\n",
              "        text-align: right;\n",
              "    }\n",
              "</style>\n",
              "<table border=\"1\" class=\"dataframe\">\n",
              "  <thead>\n",
              "    <tr style=\"text-align: right;\">\n",
              "      <th></th>\n",
              "      <th>label</th>\n",
              "      <th>comment</th>\n",
              "      <th>author</th>\n",
              "      <th>subreddit</th>\n",
              "      <th>score</th>\n",
              "      <th>ups</th>\n",
              "      <th>downs</th>\n",
              "      <th>date</th>\n",
              "      <th>created_utc</th>\n",
              "      <th>parent_comment</th>\n",
              "    </tr>\n",
              "  </thead>\n",
              "  <tbody>\n",
              "    <tr>\n",
              "      <th>0</th>\n",
              "      <td>1</td>\n",
              "      <td>Probably because employers spend so much money...</td>\n",
              "      <td>DuckSmash</td>\n",
              "      <td>news</td>\n",
              "      <td>-1</td>\n",
              "      <td>-1</td>\n",
              "      <td>-1</td>\n",
              "      <td>2016-10</td>\n",
              "      <td>2016-10-06 17:28:55</td>\n",
              "      <td>Working class white men have lower incomes tha...</td>\n",
              "    </tr>\n",
              "    <tr>\n",
              "      <th>1</th>\n",
              "      <td>0</td>\n",
              "      <td>SHRC never was a good team they had shitty dom...</td>\n",
              "      <td>LucianLvL2PowerSpike</td>\n",
              "      <td>leagueoflegends</td>\n",
              "      <td>2</td>\n",
              "      <td>2</td>\n",
              "      <td>0</td>\n",
              "      <td>2015-08</td>\n",
              "      <td>2015-08-10 12:20:50</td>\n",
              "      <td>King (Insec, Zero, Namei, Corn, etc) got releg...</td>\n",
              "    </tr>\n",
              "    <tr>\n",
              "      <th>2</th>\n",
              "      <td>1</td>\n",
              "      <td>but... but.. you guys, it takes a village!</td>\n",
              "      <td>eli5ask</td>\n",
              "      <td>pics</td>\n",
              "      <td>1</td>\n",
              "      <td>1</td>\n",
              "      <td>0</td>\n",
              "      <td>2015-10</td>\n",
              "      <td>2015-10-29 19:21:49</td>\n",
              "      <td>So ... beggars can be choosers?</td>\n",
              "    </tr>\n",
              "    <tr>\n",
              "      <th>3</th>\n",
              "      <td>1</td>\n",
              "      <td>Yes, internet drama is more important than har...</td>\n",
              "      <td>Draumbr</td>\n",
              "      <td>Vive</td>\n",
              "      <td>-5</td>\n",
              "      <td>-5</td>\n",
              "      <td>0</td>\n",
              "      <td>2015-09</td>\n",
              "      <td>2015-09-19 22:26:17</td>\n",
              "      <td>I'm glad I saw this. My wife an I are due to s...</td>\n",
              "    </tr>\n",
              "    <tr>\n",
              "      <th>4</th>\n",
              "      <td>1</td>\n",
              "      <td>Yes, all teenagers lack any wisdom whatsoever.</td>\n",
              "      <td>dracdliw</td>\n",
              "      <td>funny</td>\n",
              "      <td>1</td>\n",
              "      <td>1</td>\n",
              "      <td>0</td>\n",
              "      <td>2012-06</td>\n",
              "      <td>2012-06-19 03:26:53</td>\n",
              "      <td>Cancerish. Cancerish.... Saying teenagers can ...</td>\n",
              "    </tr>\n",
              "  </tbody>\n",
              "</table>\n",
              "</div>"
            ],
            "text/plain": [
              "   label  ...                                     parent_comment\n",
              "0      1  ...  Working class white men have lower incomes tha...\n",
              "1      0  ...  King (Insec, Zero, Namei, Corn, etc) got releg...\n",
              "2      1  ...                    So ... beggars can be choosers?\n",
              "3      1  ...  I'm glad I saw this. My wife an I are due to s...\n",
              "4      1  ...  Cancerish. Cancerish.... Saying teenagers can ...\n",
              "\n",
              "[5 rows x 10 columns]"
            ]
          },
          "metadata": {
            "tags": []
          },
          "execution_count": 7
        }
      ]
    },
    {
      "cell_type": "code",
      "metadata": {
        "id": "ces9tnWTqP-O"
      },
      "source": [
        "# do preprocessing and fasttext data utility\n",
        "\n",
        "\"\"\"\n",
        "  Helper to get the data into the format expected by fast text\n",
        "\n",
        "  df- dataframe of reddit posts as shown above\n",
        "  fname - the name of the file to save to should be .txt\n",
        "\"\"\"\n",
        "def makeFastTextData(df, fname=None):\n",
        "  assert fname[-4:] == \".txt\", \"file must have .txt extension\"\n",
        "  with open(fname, 'w') as f:\n",
        "    for et, el in zip(df['comment'], df['label']):\n",
        "      f.writelines(f'__label__{el} {et}\\n')\n",
        "\n",
        "\"\"\"\n",
        "  takes the sample size, precision and recall as parameters and compute\n",
        "  the F1 score. Print the 3 of these values. \n",
        "\"\"\"\n",
        "def print_results(sample_size, precision, recall):\n",
        "  precision = round(precision, 2)\n",
        "  recall = round(recall, 2)\n",
        "  f1 = 2 * ((precision * recall) / (precision + recall))\n",
        "  print(sample_size, precision, recall, f1)\n",
        "  \n",
        "  return precision, recall, f1\n"
      ],
      "execution_count": null,
      "outputs": []
    },
    {
      "cell_type": "code",
      "metadata": {
        "colab": {
          "base_uri": "https://localhost:8080/"
        },
        "id": "cRYKy8hl_lrt",
        "outputId": "45a876aa-6777-4abb-86dd-a336125ed102"
      },
      "source": [
        "# sanity check\n",
        "!head -n 10 sarcreddit4.txt"
      ],
      "execution_count": null,
      "outputs": [
        {
          "output_type": "stream",
          "text": [
            "__label__0 i have a skylight over my bed, what do you think?\n",
            "__label__0 ... and morgl the oracle\n",
            "__label__0 the ground looks like play-doh.\n",
            "__label__0 pollo tropical's cilantro garlic sauce\n",
            "__label__1 damn clickbait.\n",
            "__label__1 at least they only threatened to hit me in the head with a hammer once\n",
            "__label__1 i think you've got it backwards friend.\n",
            "__label__1 everyone except some us citizens is a moron then i guess\n",
            "__label__1 hey man, that's my girl.\n",
            "__label__1 today it's only 24 cents, but tomorrow, it's a ferrari...\n"
          ],
          "name": "stdout"
        }
      ]
    },
    {
      "cell_type": "code",
      "metadata": {
        "colab": {
          "base_uri": "https://localhost:8080/"
        },
        "id": "VrEsJbviD4Po",
        "outputId": "71a3b3ad-e22a-4cd0-80a6-1147947c6cc7"
      },
      "source": [
        "# split data - be sure to reshuffle dataframe above for k-fold validation\n",
        "l = df.shape[0]\n",
        "tr = int(l * .8)\n",
        "vl = round(l-tr)\n",
        "print(tr)\n",
        "print(vl)\n",
        "assert tr+vl == l, \"rounding error\""
      ],
      "execution_count": 11,
      "outputs": [
        {
          "output_type": "stream",
          "text": [
            "808660\n",
            "202166\n"
          ],
          "name": "stdout"
        }
      ]
    },
    {
      "cell_type": "code",
      "metadata": {
        "id": "g1F_dnizDYe9"
      },
      "source": [
        "! head -n {tr} sarcreddit5.txt > sarcred.train. # quickly convert files into expected format"
      ],
      "execution_count": null,
      "outputs": []
    },
    {
      "cell_type": "code",
      "metadata": {
        "id": "sd2EvyC1RZFk"
      },
      "source": [
        "! tail -n {vl} sarcreddit5.txt > sarcred.valid"
      ],
      "execution_count": null,
      "outputs": []
    },
    {
      "cell_type": "code",
      "metadata": {
        "colab": {
          "base_uri": "https://localhost:8080/"
        },
        "id": "bRAGXIKVRf9t",
        "outputId": "c28eaa52-5d95-41ed-c5ac-855517c1fc99"
      },
      "source": [
        "! wc -l sarcred.valid"
      ],
      "execution_count": null,
      "outputs": [
        {
          "output_type": "stream",
          "text": [
            "202166 sarcred.valid\n"
          ],
          "name": "stdout"
        }
      ]
    },
    {
      "cell_type": "code",
      "metadata": {
        "id": "Ux3zE1qIWsR_"
      },
      "source": [
        "# define the model\n",
        "model = fasttext.train_supervised('sarcred.train', lr=.1, dim=100, wordNgrams=2, loss='hs')"
      ],
      "execution_count": null,
      "outputs": []
    },
    {
      "cell_type": "code",
      "metadata": {
        "colab": {
          "base_uri": "https://localhost:8080/"
        },
        "id": "O0LAmk-jjdDe",
        "outputId": "b7e2df42-b402-4fd0-dd78-65c88963fc56"
      },
      "source": [
        "# check performance\n",
        "print_results(*model.test('sarcred.valid'))"
      ],
      "execution_count": null,
      "outputs": [
        {
          "output_type": "stream",
          "text": [
            "202166 0.7 0.7 0.7\n"
          ],
          "name": "stdout"
        },
        {
          "output_type": "execute_result",
          "data": {
            "text/plain": [
              "(0.7, 0.7, 0.7)"
            ]
          },
          "metadata": {
            "tags": []
          },
          "execution_count": 43
        }
      ]
    },
    {
      "cell_type": "code",
      "metadata": {
        "id": "W-7wDSO1qUST"
      },
      "source": [
        "model.test(\"sarcasm.valid\", k=3) # output is test set size, precision (TP / TP + FP ), recall (TP / TP + FN)\n",
        "\n",
        "#TP --> actual: sarcastic, predicted: sarcastic\n",
        "#  FP --> actual: not sarcastic, predicted: sarcastic\n",
        "#  FN --> actual: sarcastic, predicted: not sarcastic"
      ],
      "execution_count": null,
      "outputs": []
    },
    {
      "cell_type": "code",
      "metadata": {
        "id": "XYJQOiJw_4TY"
      },
      "source": [
        "model.save_model(\"model.bin\")"
      ],
      "execution_count": null,
      "outputs": []
    },
    {
      "cell_type": "code",
      "metadata": {
        "id": "bFykKlngKZBk"
      },
      "source": [
        "# count the commment labels (pos or neg)\n",
        "comments_labels = []\n",
        "pos = 0\n",
        "neg = 0\n",
        "for i, comment in enumerate(sarc['comment']):\n",
        "  if sarc['label'][i] == 0:\n",
        "    neg += 1\n",
        "  else:\n",
        "    pos += 1\n",
        "  comments_labels.append([sarc['label'][i], comment])"
      ],
      "execution_count": null,
      "outputs": []
    },
    {
      "cell_type": "code",
      "metadata": {
        "id": "0BImAc7De6oG"
      },
      "source": [
        "# save data/ models here\n",
        "savedir = \"/content/gdrive/MyDrive/NLP_Final/data/txt\""
      ],
      "execution_count": null,
      "outputs": []
    },
    {
      "cell_type": "code",
      "metadata": {
        "colab": {
          "base_uri": "https://localhost:8080/"
        },
        "id": "epabKGGI3PgM",
        "outputId": "609c268c-ab0b-46c7-e1e5-ddae0ffefc13"
      },
      "source": [
        "% cd /content/gdrive/MyDrive/NLP_Final/data/txt"
      ],
      "execution_count": null,
      "outputs": [
        {
          "output_type": "stream",
          "text": [
            "/content/gdrive/.shortcut-targets-by-id/1gjC8j5numlBtyRH4ljSkR-XtOkBItgYp/NLP_Final/data/txt\n"
          ],
          "name": "stdout"
        }
      ]
    },
    {
      "cell_type": "code",
      "metadata": {
        "id": "VjAg3PV_2Rk0"
      },
      "source": [
        "import fasttext\n",
        "# define the model and train it, save as mod0\n",
        "mod0 = fasttext.train_supervised(input=\"sarc0.train\", lr=0.5, epoch=25, wordNgrams=2, dim=100, loss='hs') "
      ],
      "execution_count": null,
      "outputs": []
    },
    {
      "cell_type": "code",
      "metadata": {
        "id": "qwbVkSwAYxUS"
      },
      "source": [
        "mod1 = fasttext.train_supervised(input=\"sarc1.train\", lr=0.5, epoch=25, wordNgrams=2, dim=100, loss='hs') "
      ],
      "execution_count": null,
      "outputs": []
    },
    {
      "cell_type": "code",
      "metadata": {
        "id": "xUhEXuabYxjj"
      },
      "source": [
        "mod2 = fasttext.train_supervised(input=\"sarc2.train\", lr=0.5, epoch=25, wordNgrams=2, dim=100, loss='hs') "
      ],
      "execution_count": null,
      "outputs": []
    },
    {
      "cell_type": "code",
      "metadata": {
        "id": "pps4YFDQYxul"
      },
      "source": [
        "mod3 = fasttext.train_supervised(input=\"sarc3.train\", lr=0.5, epoch=25, wordNgrams=2, dim=100, loss='hs') "
      ],
      "execution_count": null,
      "outputs": []
    },
    {
      "cell_type": "code",
      "metadata": {
        "id": "HE5pngxBYx4B"
      },
      "source": [
        "mod4 = fasttext.train_supervised(input=\"sarc4.train\", lr=0.5, epoch=25, wordNgrams=2, dim=100, loss='hs') "
      ],
      "execution_count": null,
      "outputs": []
    },
    {
      "cell_type": "code",
      "metadata": {
        "id": "PQFik4EjdYol"
      },
      "source": [
        "mod5 = fasttext.train_supervised(input=\"sarc5.train\", lr=0.1, epoch=25, wordNgrams=3, dim=50, loss='hs') "
      ],
      "execution_count": null,
      "outputs": []
    },
    {
      "cell_type": "code",
      "metadata": {
        "id": "I6kGs9q7vead"
      },
      "source": [
        "mod6 = fasttext.train_supervised(input=\"sarc6.train\", lr=0.7, epoch=25, wordNgrams=3, dim=100, loss='hs') "
      ],
      "execution_count": null,
      "outputs": []
    },
    {
      "cell_type": "code",
      "metadata": {
        "id": "U-Yt64qM4SoN"
      },
      "source": [
        "mod0.save_model(\"mod0.bin\")\n",
        "mod1.save_model(\"mod1.bin\")\n",
        "mod2.save_model(\"mod2.bin\")\n",
        "mod3.save_model(\"mod3.bin\")\n",
        "mod4.save_model(\"mod4.bin\")\n",
        "mod5.save_model(\"mod5.bin\")\n",
        "mod6.save_model(\"mod6.bin\")"
      ],
      "execution_count": null,
      "outputs": []
    },
    {
      "cell_type": "code",
      "metadata": {
        "colab": {
          "base_uri": "https://localhost:8080/"
        },
        "id": "K2MrxVvRaU08",
        "outputId": "513d9b48-a4b1-40d5-8265-b06ae9ad941a"
      },
      "source": [
        "print(\"mod0 test\")\n",
        "mod0.test(\"sarc0.valid\", k=5)"
      ],
      "execution_count": null,
      "outputs": [
        {
          "output_type": "stream",
          "text": [
            "mod0 test\n"
          ],
          "name": "stdout"
        },
        {
          "output_type": "execute_result",
          "data": {
            "text/plain": [
              "(101083, 0.5, 1.0)"
            ]
          },
          "metadata": {
            "tags": []
          },
          "execution_count": 100
        }
      ]
    },
    {
      "cell_type": "code",
      "metadata": {
        "colab": {
          "base_uri": "https://localhost:8080/"
        },
        "id": "IBPiyso6e6Em",
        "outputId": "5ca84b4e-cc1b-4c74-a7f9-dafbcf142dde"
      },
      "source": [
        "print(\"mod1 test\")\n",
        "mod1.test(\"sarc1.valid\", k=5)"
      ],
      "execution_count": null,
      "outputs": [
        {
          "output_type": "stream",
          "text": [
            "mod1 test\n"
          ],
          "name": "stdout"
        },
        {
          "output_type": "execute_result",
          "data": {
            "text/plain": [
              "(101083, 0.5, 1.0)"
            ]
          },
          "metadata": {
            "tags": []
          },
          "execution_count": 101
        }
      ]
    },
    {
      "cell_type": "code",
      "metadata": {
        "colab": {
          "base_uri": "https://localhost:8080/"
        },
        "id": "-tsiBWG7e8TG",
        "outputId": "3c8dc9f3-3516-43ee-f0ce-2c2f8d25d06a"
      },
      "source": [
        "print(\"mod2 test\")\n",
        "mod2.test(\"sarc2.valid\", k=5)"
      ],
      "execution_count": null,
      "outputs": [
        {
          "output_type": "stream",
          "text": [
            "mod2 test\n"
          ],
          "name": "stdout"
        },
        {
          "output_type": "execute_result",
          "data": {
            "text/plain": [
              "(101083, 0.5, 1.0)"
            ]
          },
          "metadata": {
            "tags": []
          },
          "execution_count": 102
        }
      ]
    },
    {
      "cell_type": "code",
      "metadata": {
        "id": "36HxP2Qze9rz"
      },
      "source": [
        "print(\"mod3 test\")\n",
        "mod3.test(\"sarc3.valid\", k=5)"
      ],
      "execution_count": null,
      "outputs": []
    },
    {
      "cell_type": "code",
      "metadata": {
        "colab": {
          "base_uri": "https://localhost:8080/"
        },
        "id": "YXCspIARe_J2",
        "outputId": "fe7b05fe-9e73-45d7-a830-29692c12a8ef"
      },
      "source": [
        "print(\"mod4 test\")\n",
        "mod4.test(\"sarc4.valid\", k=5)"
      ],
      "execution_count": null,
      "outputs": [
        {
          "output_type": "stream",
          "text": [
            "mod4 test\n"
          ],
          "name": "stdout"
        },
        {
          "output_type": "execute_result",
          "data": {
            "text/plain": [
              "(101083, 0.5, 1.0)"
            ]
          },
          "metadata": {
            "tags": []
          },
          "execution_count": 104
        }
      ]
    },
    {
      "cell_type": "code",
      "metadata": {
        "colab": {
          "base_uri": "https://localhost:8080/"
        },
        "id": "K-i8LpQRfASq",
        "outputId": "2a59494c-6590-405a-d970-79b949fc6c39"
      },
      "source": [
        "print(\"mod5 test\")\n",
        "mod5.test(\"sarc5.valid\", k=5)"
      ],
      "execution_count": null,
      "outputs": [
        {
          "output_type": "stream",
          "text": [
            "mod5 test\n"
          ],
          "name": "stdout"
        },
        {
          "output_type": "execute_result",
          "data": {
            "text/plain": [
              "(101083, 0.5, 1.0)"
            ]
          },
          "metadata": {
            "tags": []
          },
          "execution_count": 105
        }
      ]
    },
    {
      "cell_type": "code",
      "metadata": {
        "colab": {
          "base_uri": "https://localhost:8080/"
        },
        "id": "cgFnsTicfOxn",
        "outputId": "250452e1-6494-40c4-bf57-85c9d90b53cf"
      },
      "source": [
        "mod0.predict(\"Nice perfume. did you shower in it?\")"
      ],
      "execution_count": null,
      "outputs": [
        {
          "output_type": "execute_result",
          "data": {
            "text/plain": [
              "(('__label__1',), array([0.99815154]))"
            ]
          },
          "metadata": {
            "tags": []
          },
          "execution_count": 106
        }
      ]
    },
    {
      "cell_type": "code",
      "metadata": {
        "colab": {
          "base_uri": "https://localhost:8080/"
        },
        "id": "dy30EZ_ZfRqa",
        "outputId": "6f9d1c53-1afb-4aae-e9b2-5172bdce4726"
      },
      "source": [
        "mod1.predict(\"Nice perfume. did you shower in it?\")\n"
      ],
      "execution_count": null,
      "outputs": [
        {
          "output_type": "execute_result",
          "data": {
            "text/plain": [
              "(('__label__1',), array([0.93067527]))"
            ]
          },
          "metadata": {
            "tags": []
          },
          "execution_count": 108
        }
      ]
    },
    {
      "cell_type": "code",
      "metadata": {
        "colab": {
          "base_uri": "https://localhost:8080/"
        },
        "id": "hYQf8fSqfVyi",
        "outputId": "1e3f0f01-c797-4de9-c05e-04c9586bf5e5"
      },
      "source": [
        "mod2.predict(\"Nice perfume. did you shower in it?\")"
      ],
      "execution_count": null,
      "outputs": [
        {
          "output_type": "execute_result",
          "data": {
            "text/plain": [
              "(('__label__1',), array([0.99996823]))"
            ]
          },
          "metadata": {
            "tags": []
          },
          "execution_count": 109
        }
      ]
    },
    {
      "cell_type": "code",
      "metadata": {
        "colab": {
          "base_uri": "https://localhost:8080/"
        },
        "id": "Q8USoCHvfXxy",
        "outputId": "3e612390-536d-440b-a447-e42500ceff10"
      },
      "source": [
        "mod3.predict(\"Nice perfume. did you shower in it?\")"
      ],
      "execution_count": null,
      "outputs": [
        {
          "output_type": "execute_result",
          "data": {
            "text/plain": [
              "(('__label__1',), array([0.99977404]))"
            ]
          },
          "metadata": {
            "tags": []
          },
          "execution_count": 110
        }
      ]
    },
    {
      "cell_type": "code",
      "metadata": {
        "colab": {
          "base_uri": "https://localhost:8080/"
        },
        "id": "ZuY2oI4-fg9q",
        "outputId": "a7078514-5f0f-4186-c140-93cd14502bd8"
      },
      "source": [
        "mod6.predict(\"Nice perfume. did you shower in it?\")"
      ],
      "execution_count": null,
      "outputs": [
        {
          "output_type": "execute_result",
          "data": {
            "text/plain": [
              "(('__label__0',), array([0.91405302]))"
            ]
          },
          "metadata": {
            "tags": []
          },
          "execution_count": 73
        }
      ]
    },
    {
      "cell_type": "code",
      "metadata": {
        "id": "dH6Qx51j8xRd"
      },
      "source": [
        "help(fasttext.FastText)"
      ],
      "execution_count": null,
      "outputs": []
    }
  ]
}