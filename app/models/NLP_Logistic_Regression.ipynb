{
  "nbformat": 4,
  "nbformat_minor": 0,
  "metadata": {
    "colab": {
      "name": "NLP Logistic Regression.ipynb",
      "provenance": []
    },
    "kernelspec": {
      "name": "python3",
      "display_name": "Python 3"
    },
    "language_info": {
      "name": "python"
    }
  },
  "cells": [
    {
      "cell_type": "code",
      "metadata": {
        "id": "eZiEc84aFvCQ",
        "colab": {
          "base_uri": "https://localhost:8080/"
        },
        "outputId": "f4d99ecc-7187-44ae-a5ad-454f85e9695e"
      },
      "source": [
        "from google.colab import drive\n",
        "drive.mount('/content/drive')"
      ],
      "execution_count": null,
      "outputs": [
        {
          "output_type": "stream",
          "text": [
            "Mounted at /content/drive\n"
          ],
          "name": "stdout"
        }
      ]
    },
    {
      "cell_type": "code",
      "metadata": {
        "colab": {
          "base_uri": "https://localhost:8080/"
        },
        "id": "b0HQROioJy-g",
        "outputId": "501ec76e-c058-4f24-f7f4-34ba9ab5e7bd"
      },
      "source": [
        "import pandas as pd\n",
        "import numpy as np\n",
        "from sklearn.linear_model import LogisticRegression\n",
        "from sklearn.model_selection import train_test_split\n",
        "from sklearn.feature_extraction.text import TfidfVectorizer\n",
        "from sklearn.pipeline import Pipeline\n",
        "from sklearn.metrics import accuracy_score\n",
        "\n",
        "\n",
        "#dataset is now stord in a pandas dataframe\n",
        "path = \"/content/drive/MyDrive/train-balanced-sarcasm.csv\"\n",
        "df = pd.read_csv(path)\n",
        "\n",
        "# Remove missing values\n",
        "df.dropna(subset=['comment'], inplace=True)\n",
        "\n",
        "# Train Test Split Parameters\n",
        "comment_train = df['comment']\n",
        "label_train = df['label']\n",
        "randoms = 17 # 17 is giving best output\n",
        " \n",
        "# Split data into training and testing \n",
        "training_words, testing_words, training_scores, testing_scores = train_test_split(comment_train, label_train, random_state=randoms)\n",
        "\n",
        "# Using Unigrams and Bigrams, TF-IDF, using (1, 1) or (2, 2) performs worse\n",
        "# The data set has about 50,000 features/points.\n",
        "# Min_df 10 seems to be giving best output\n",
        "stats = TfidfVectorizer(ngram_range=(1, 2), max_features=50000, min_df=10)\n",
        "\n",
        "\n",
        "# Use built in LR Model\n",
        "lr_model = LogisticRegression(solver='sag', random_state=randoms)\n",
        "\n",
        "# Create Pipeline\n",
        "pipe = Pipeline([('stats', stats), ('lr_model', lr_model)])\n",
        "\n",
        "# Preprocess\n",
        "pipe.fit(training_words, training_scores)\n",
        "\n",
        "# Predict\n",
        "guess = pipe.predict(testing_words)\n",
        "\n",
        "\n",
        "# Evaluate \n",
        "print(\"Score\")\n",
        "print(accuracy_score(testing_scores, guess))\n",
        "\n",
        "!pip install eli5\n",
        "import eli5 \n",
        "print(eli5.show_weights(estimator=pipe.named_steps['lr_model'], vec=pipe.named_steps['stats']))\n",
        "#display_df = eli5.explain_weights_df(estimator=pipe.named_steps['lr_model'], vec=pipe.named_steps['stats'])\n",
        "#print(display_df.head(10))\n",
        "#print(display_df.tail(10))\n",
        "\n"
      ],
      "execution_count": null,
      "outputs": [
        {
          "output_type": "stream",
          "text": [
            "Score\n",
            "0.7210420508599333\n",
            "Requirement already satisfied: eli5 in /usr/local/lib/python3.7/dist-packages (0.11.0)\n",
            "Requirement already satisfied: tabulate>=0.7.7 in /usr/local/lib/python3.7/dist-packages (from eli5) (0.8.9)\n",
            "Requirement already satisfied: attrs>16.0.0 in /usr/local/lib/python3.7/dist-packages (from eli5) (20.3.0)\n",
            "Requirement already satisfied: scikit-learn>=0.20 in /usr/local/lib/python3.7/dist-packages (from eli5) (0.22.2.post1)\n",
            "Requirement already satisfied: scipy in /usr/local/lib/python3.7/dist-packages (from eli5) (1.4.1)\n",
            "Requirement already satisfied: graphviz in /usr/local/lib/python3.7/dist-packages (from eli5) (0.10.1)\n",
            "Requirement already satisfied: numpy>=1.9.0 in /usr/local/lib/python3.7/dist-packages (from eli5) (1.19.5)\n",
            "Requirement already satisfied: jinja2 in /usr/local/lib/python3.7/dist-packages (from eli5) (2.11.3)\n",
            "Requirement already satisfied: six in /usr/local/lib/python3.7/dist-packages (from eli5) (1.15.0)\n",
            "Requirement already satisfied: joblib>=0.11 in /usr/local/lib/python3.7/dist-packages (from scikit-learn>=0.20->eli5) (1.0.1)\n",
            "Requirement already satisfied: MarkupSafe>=0.23 in /usr/local/lib/python3.7/dist-packages (from jinja2->eli5) (1.1.1)\n",
            "<IPython.core.display.HTML object>\n",
            "   target        feature    weight\n",
            "0       1    yes because  8.961626\n",
            "1       1      obviously  7.492704\n",
            "2       1        clearly  7.462800\n",
            "3       1   yeah because  7.123800\n",
            "4       1        totally  6.794973\n",
            "5       1        because  6.186662\n",
            "6       1       how dare  5.843897\n",
            "7       1  right because  5.398182\n",
            "8       1     good thing  5.184803\n",
            "9       1            duh  5.050009\n",
            "       target      feature    weight\n",
            "49991       1   not really -3.625312\n",
            "49992       1          imo -3.810601\n",
            "49993       1  necessarily -3.829144\n",
            "49994       1     that but -3.918156\n",
            "49995       1    right but -3.996097\n",
            "49996       1    generally -4.068023\n",
            "49997       1       it but -4.282503\n",
            "49998       1  fair enough -4.319423\n",
            "49999       1     true but -4.469713\n",
            "50000       1         iirc -4.561264\n"
          ],
          "name": "stdout"
        }
      ]
    }
  ]
}